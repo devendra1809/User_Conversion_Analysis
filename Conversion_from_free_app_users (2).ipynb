{
 "cells": [
  {
   "cell_type": "code",
   "execution_count": 1,
   "id": "6c9be3be-4144-4c90-bea8-dab13308be19",
   "metadata": {},
   "outputs": [],
   "source": [
    "# import python libraries\n",
    "import pandas as pd\n",
    "import numpy as np"
   ]
  },
  {
   "cell_type": "code",
   "execution_count": 4,
   "id": "c0949934-834f-43f3-890a-3791271dd8ee",
   "metadata": {},
   "outputs": [
    {
     "name": "stdout",
     "output_type": "stream",
     "text": [
      "<class 'pandas.core.frame.DataFrame'>\n",
      "RangeIndex: 764401 entries, 0 to 764400\n",
      "Data columns (total 7 columns):\n",
      " #   Column    Non-Null Count   Dtype  \n",
      "---  ------    --------------   -----  \n",
      " 0   Category  743423 non-null  object \n",
      " 1   mobile    764397 non-null  float64\n",
      " 2   status1   764401 non-null  object \n",
      " 3   status2   31194 non-null   object \n",
      " 4   F_Date    764401 non-null  object \n",
      " 5   P_Date    31194 non-null   object \n",
      " 6   Day_Diff  31194 non-null   float64\n",
      "dtypes: float64(2), object(5)\n",
      "memory usage: 40.8+ MB\n"
     ]
    }
   ],
   "source": [
    "# importing the CSV file which i get from SQL query (which contains the All free users and their information about online conversion)\n",
    "table1 = pd.read_csv(\"Free_Users_And_Their_Online_Conversion.csv\")\n",
    "table1.info()\n"
   ]
  },
  {
   "cell_type": "code",
   "execution_count": 3,
   "id": "8d5e004e-cbd5-4881-8ee1-f681d1c38e79",
   "metadata": {},
   "outputs": [
    {
     "name": "stdout",
     "output_type": "stream",
     "text": [
      "<class 'pandas.core.frame.DataFrame'>\n",
      "RangeIndex: 19425 entries, 0 to 19424\n",
      "Data columns (total 10 columns):\n",
      " #   Column          Non-Null Count  Dtype  \n",
      "---  ------          --------------  -----  \n",
      " 0   contact         19425 non-null  int64  \n",
      " 1   guardianmobile  19425 non-null  int64  \n",
      " 2   batch_id        19425 non-null  int64  \n",
      " 3   batch           19425 non-null  object \n",
      " 4   category        19425 non-null  object \n",
      " 5   branch          19425 non-null  object \n",
      " 6   Joining_Date    19425 non-null  object \n",
      " 7   Student_Type    19425 non-null  object \n",
      " 8   std_type        19425 non-null  object \n",
      " 9   amount          19425 non-null  float64\n",
      "dtypes: float64(1), int64(3), object(6)\n",
      "memory usage: 1.5+ MB\n"
     ]
    }
   ],
   "source": [
    "# importing CSV file which contains all the paid users from offline mode\n",
    "table2=pd.read_csv(\"Offline_Paid_Users.csv\")\n",
    "table2.info()"
   ]
  },
  {
   "cell_type": "code",
   "execution_count": 11,
   "id": "b88a31be-304f-4a5b-96ce-c6d0298269e8",
   "metadata": {},
   "outputs": [
    {
     "name": "stdout",
     "output_type": "stream",
     "text": [
      "<class 'pandas.core.frame.DataFrame'>\n",
      "RangeIndex: 764836 entries, 0 to 764835\n",
      "Data columns (total 17 columns):\n",
      " #   Column          Non-Null Count   Dtype  \n",
      "---  ------          --------------   -----  \n",
      " 0   Category        743829 non-null  object \n",
      " 1   mobile          764832 non-null  float64\n",
      " 2   status1         764836 non-null  object \n",
      " 3   status2         31206 non-null   object \n",
      " 4   F_Date          764836 non-null  object \n",
      " 5   P_Date          31206 non-null   object \n",
      " 6   Day_Diff        31206 non-null   float64\n",
      " 7   contact         8923 non-null    float64\n",
      " 8   guardianmobile  8923 non-null    float64\n",
      " 9   batch_id        8923 non-null    float64\n",
      " 10  batch           8923 non-null    object \n",
      " 11  category        8923 non-null    object \n",
      " 12  branch          8923 non-null    object \n",
      " 13  Joining_Date    8923 non-null    object \n",
      " 14  Student_Type    8923 non-null    object \n",
      " 15  std_type        8923 non-null    object \n",
      " 16  amount          8923 non-null    float64\n",
      "dtypes: float64(6), object(11)\n",
      "memory usage: 99.2+ MB\n"
     ]
    }
   ],
   "source": [
    "# Joining table1 and table2\n",
    "table3 = pd.merge(table1, table2, left_on=\"mobile\", right_on=\"contact\", how=\"left\")\n",
    "table3.info()"
   ]
  },
  {
   "cell_type": "code",
   "execution_count": 10,
   "id": "67b1ee67-afbb-4df0-8ec5-a366ac8c4bf8",
   "metadata": {},
   "outputs": [
    {
     "name": "stdout",
     "output_type": "stream",
     "text": [
      "<class 'pandas.core.frame.DataFrame'>\n",
      "RangeIndex: 764836 entries, 0 to 764835\n",
      "Data columns (total 20 columns):\n",
      " #   Column          Non-Null Count   Dtype         \n",
      "---  ------          --------------   -----         \n",
      " 0   Category        743829 non-null  object        \n",
      " 1   mobile          764832 non-null  float64       \n",
      " 2   status1         764836 non-null  object        \n",
      " 3   status2         31206 non-null   object        \n",
      " 4   F_Date          764836 non-null  datetime64[ns]\n",
      " 5   P_Date          31206 non-null   object        \n",
      " 6   Day_Diff        31206 non-null   float64       \n",
      " 7   contact         8923 non-null    float64       \n",
      " 8   guardianmobile  8923 non-null    float64       \n",
      " 9   batch_id        8923 non-null    float64       \n",
      " 10  batch           8923 non-null    object        \n",
      " 11  category        8923 non-null    object        \n",
      " 12  branch          8923 non-null    object        \n",
      " 13  Joining_Date    8923 non-null    datetime64[ns]\n",
      " 14  Student_Type    8923 non-null    object        \n",
      " 15  std_type        8923 non-null    object        \n",
      " 16  amount          8923 non-null    float64       \n",
      " 17  Date_Diff       8923 non-null    float64       \n",
      " 18  Match           764836 non-null  int32         \n",
      " 19  F_Date_Month    764836 non-null  period[M]     \n",
      "dtypes: datetime64[ns](2), float64(7), int32(1), object(9), period[M](1)\n",
      "memory usage: 113.8+ MB\n"
     ]
    }
   ],
   "source": [
    "# Creating Three new columns Date_Diff, Match and F_Date_Month\n",
    "table3['F_Date'] = pd.to_datetime(table3['F_Date'])\n",
    "table3['Joining_Date'] = pd.to_datetime(table3['Joining_Date'])\n",
    "table3['Date_Diff'] = (table3['Joining_Date'] - table3['F_Date']).dt.days\n",
    "table3['Match'] = np.where(table3['Category'] == table3['category'], 1, 0)\n",
    "table3['F_Date_Month'] = table3['F_Date'].dt.to_period('M')\n",
    "table3.info()"
   ]
  },
  {
   "cell_type": "code",
   "execution_count": 9,
   "id": "144f723c-0fd9-40f4-ade1-dd17da86be33",
   "metadata": {},
   "outputs": [
    {
     "name": "stdout",
     "output_type": "stream",
     "text": [
      "<class 'pandas.core.frame.DataFrame'>\n",
      "RangeIndex: 169 entries, 0 to 168\n",
      "Data columns (total 5 columns):\n",
      " #   Column                        Non-Null Count  Dtype    \n",
      "---  ------                        --------------  -----    \n",
      " 0   Category                      169 non-null    object   \n",
      " 1   F_Date_Month                  169 non-null    period[M]\n",
      " 2   Total_Free_User               169 non-null    int64    \n",
      " 3   Converted_Online_Paid_Users   169 non-null    int64    \n",
      " 4   Converted_Offline_Paid_Users  169 non-null    int64    \n",
      "dtypes: int64(3), object(1), period[M](1)\n",
      "memory usage: 6.7+ KB\n"
     ]
    }
   ],
   "source": [
    "# Calculating Category wise paid conversion in both online and offline mode Month on month\n",
    "result = table3.groupby(['Category', 'F_Date_Month']).agg(\n",
    "    Total_Free_User=('mobile', 'count'),\n",
    "    Converted_Online_Paid_Users=('mobile', lambda x: (table3.loc[x.index, 'Day_Diff'] >= 0).sum()),\n",
    "    Converted_Offline_Paid_Users=('mobile', lambda x: ((table3.loc[x.index, 'Date_Diff'] >= 0) & (table3.loc[x.index, 'Match'] == 1)).sum())\n",
    ").reset_index()\n",
    "result.info()"
   ]
  },
  {
   "cell_type": "code",
   "execution_count": null,
   "id": "e37108eb-c551-434c-8d8c-a16830f484e7",
   "metadata": {},
   "outputs": [],
   "source": []
  }
 ],
 "metadata": {
  "kernelspec": {
   "display_name": "Python 3 (ipykernel)",
   "language": "python",
   "name": "python3"
  },
  "language_info": {
   "codemirror_mode": {
    "name": "ipython",
    "version": 3
   },
   "file_extension": ".py",
   "mimetype": "text/x-python",
   "name": "python",
   "nbconvert_exporter": "python",
   "pygments_lexer": "ipython3",
   "version": "3.11.8"
  }
 },
 "nbformat": 4,
 "nbformat_minor": 5
}
